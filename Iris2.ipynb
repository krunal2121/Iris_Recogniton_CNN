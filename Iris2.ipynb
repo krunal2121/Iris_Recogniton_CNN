{
 "cells": [
  {
   "cell_type": "code",
   "execution_count": 1,
   "id": "90d1989a",
   "metadata": {},
   "outputs": [],
   "source": [
    "import numpy as np\n",
    "import pandas as pd\n",
    "import matplotlib.pyplot as plt\n",
    "from PIL import Image\n",
    "import os\n",
    "from sklearn.model_selection import train_test_split\n",
    "from keras.utils.np_utils import to_categorical\n",
    "from keras.models import Sequential\n",
    "from keras.layers import Conv2D,MaxPool2D,Dense,Flatten,Dropout"
   ]
  },
  {
   "cell_type": "code",
   "execution_count": 5,
   "id": "d911a6e7",
   "metadata": {},
   "outputs": [
    {
     "name": "stdout",
     "output_type": "stream",
     "text": [
      "Error loading image\n",
      "Error loading image\n",
      "Error loading image\n"
     ]
    }
   ],
   "source": [
    "data = []\n",
    "labels = []\n",
    "classes = 411\n",
    "cur_path = os.path.join(os.getcwd(), 'CASIA-Iris-Lamp')\n",
    "\n",
    "for i in range(1, classes+1):\n",
    "    subdir = str(i).zfill(3)  # zero-padding the subdirectory number\n",
    "    for side in ['L', 'R']:\n",
    "        path = os.path.join(cur_path, subdir, side)\n",
    "        images = os.listdir(path)\n",
    "        \n",
    "        for a in images:\n",
    "            try:\n",
    "                image = Image.open(os.path.join(path, a))\n",
    "                image = image.resize((30,30))\n",
    "                image = np.array(image)\n",
    "                data.append(image)\n",
    "                labels.append(i)\n",
    "            except:\n",
    "                print(\"Error loading image\")\n",
    "                \n",
    "data = np.array(data)\n",
    "labels = np.array(labels)"
   ]
  },
  {
   "cell_type": "code",
   "execution_count": 6,
   "id": "a92806bc",
   "metadata": {},
   "outputs": [
    {
     "data": {
      "text/plain": [
       "array([[[ 47,  54,  58, ...,  53,  35,  26],\n",
       "        [ 49,  53,  64, ...,  57,  43,  31],\n",
       "        [ 55,  61,  64, ...,  73,  51,  38],\n",
       "        ...,\n",
       "        [146, 149, 152, ..., 105,  98,  86],\n",
       "        [142, 146, 149, ..., 105,  97,  85],\n",
       "        [135, 140, 142, ..., 102,  94,  82]],\n",
       "\n",
       "       [[ 52,  57,  61, ...,  73,  56,  37],\n",
       "        [ 57,  66,  76, ...,  80,  61,  47],\n",
       "        [ 62,  71,  80, ...,  89,  79,  58],\n",
       "        ...,\n",
       "        [158, 161, 164, ..., 111, 107,  97],\n",
       "        [153, 157, 159, ..., 113, 108,  96],\n",
       "        [144, 149, 152, ..., 113, 106,  94]],\n",
       "\n",
       "       [[ 59,  60,  72, ...,  79,  65,  52],\n",
       "        [ 69,  71,  77, ...,  84,  69,  57],\n",
       "        [ 76,  82,  90, ..., 103,  82,  64],\n",
       "        ...,\n",
       "        [138, 141, 143, ..., 124, 121, 115],\n",
       "        [134, 139, 140, ..., 127, 122, 113],\n",
       "        [131, 135, 138, ..., 124, 120, 111]],\n",
       "\n",
       "       ...,\n",
       "\n",
       "       [[ 22,  25,  29, ...,  85,  75,  64],\n",
       "        [ 22,  25,  30, ...,  89,  80,  72],\n",
       "        [ 22,  25,  32, ...,  96,  87,  78],\n",
       "        ...,\n",
       "        [ 80,  87, 101, ..., 121, 114, 107],\n",
       "        [ 76,  84,  96, ..., 115, 109, 102],\n",
       "        [ 68,  79,  90, ..., 110, 104,  96]],\n",
       "\n",
       "       [[ 24,  27,  36, ...,  88,  79,  67],\n",
       "        [ 24,  28,  38, ...,  93,  84,  74],\n",
       "        [ 25,  29,  39, ..., 101,  90,  80],\n",
       "        ...,\n",
       "        [ 81,  91, 103, ..., 122, 116, 109],\n",
       "        [ 77,  87,  98, ..., 117, 111, 103],\n",
       "        [ 71,  83,  93, ..., 112, 106,  99]],\n",
       "\n",
       "       [[ 24,  27,  34, ...,  87,  77,  65],\n",
       "        [ 24,  28,  36, ...,  92,  83,  73],\n",
       "        [ 24,  28,  38, ...,  99,  88,  79],\n",
       "        ...,\n",
       "        [ 80,  90, 103, ..., 121, 115, 109],\n",
       "        [ 77,  87,  98, ..., 116, 110, 103],\n",
       "        [ 71,  82,  93, ..., 111, 106,  99]]], dtype=uint8)"
      ]
     },
     "execution_count": 6,
     "metadata": {},
     "output_type": "execute_result"
    }
   ],
   "source": [
    "data"
   ]
  },
  {
   "cell_type": "code",
   "execution_count": 7,
   "id": "b59216c0",
   "metadata": {},
   "outputs": [
    {
     "data": {
      "text/plain": [
       "array([  1,   1,   1, ..., 411, 411, 411])"
      ]
     },
     "execution_count": 7,
     "metadata": {},
     "output_type": "execute_result"
    }
   ],
   "source": [
    "labels"
   ]
  },
  {
   "cell_type": "code",
   "execution_count": 8,
   "id": "097abc24",
   "metadata": {},
   "outputs": [
    {
     "name": "stdout",
     "output_type": "stream",
     "text": [
      "(16212, 30, 30) (16212,)\n",
      "(12969, 30, 30) (3243, 30, 30) (12969,) (3243,)\n"
     ]
    }
   ],
   "source": [
    "print(data.shape,labels.shape)\n",
    "X_train,X_test,y_train,y_test=train_test_split(data,labels,test_size=0.2,random_state=42)\n",
    "print(X_train.shape,X_test.shape,y_train.shape,y_test.shape)\n",
    "y_train = to_categorical(y_train,412)\n",
    "y_test = to_categorical(y_test,412)"
   ]
  },
  {
   "cell_type": "code",
   "execution_count": 9,
   "id": "9623999f",
   "metadata": {},
   "outputs": [],
   "source": [
    "X_train = np.expand_dims(X_train, axis=-1)\n",
    "X_test = np.expand_dims(X_test, axis=-1)\n",
    "\n",
    "model = Sequential()\n",
    "model.add(Conv2D(filters=32, kernel_size=(5,5), activation='relu', input_shape=X_train.shape[1:]))\n",
    "model.add(Conv2D(filters=32, kernel_size=(5,5), activation='relu'))\n",
    "model.add(MaxPool2D(pool_size=(2, 2)))\n",
    "model.add(Dropout(rate=0.25))\n",
    "model.add(Conv2D(filters=64, kernel_size=(3, 3), activation='relu'))\n",
    "model.add(Conv2D(filters=64, kernel_size=(3, 3), activation='relu'))\n",
    "model.add(MaxPool2D(pool_size=(2, 2)))\n",
    "model.add(Dropout(rate=0.25))\n",
    "model.add(Flatten())\n",
    "model.add(Dense(256, activation='relu'))\n",
    "model.add(Dropout(rate=0.5))\n",
    "model.add(Dense(412, activation='softmax'))\n"
   ]
  },
  {
   "cell_type": "code",
   "execution_count": 10,
   "id": "e673e3cb",
   "metadata": {},
   "outputs": [],
   "source": [
    "#Compilation of the model\n",
    "model.compile(loss='categorical_crossentropy', optimizer='adam', metrics=['accuracy'])\n"
   ]
  },
  {
   "cell_type": "code",
   "execution_count": 24,
   "id": "8d245424",
   "metadata": {},
   "outputs": [
    {
     "name": "stdout",
     "output_type": "stream",
     "text": [
      "Epoch 1/10\n",
      "406/406 [==============================] - 29s 72ms/step - loss: 0.6164 - accuracy: 0.8184 - val_loss: 0.2974 - val_accuracy: 0.9334\n",
      "Epoch 2/10\n",
      "406/406 [==============================] - 29s 72ms/step - loss: 0.6246 - accuracy: 0.8146 - val_loss: 0.3190 - val_accuracy: 0.9269\n",
      "Epoch 3/10\n",
      "406/406 [==============================] - 30s 73ms/step - loss: 0.6351 - accuracy: 0.8112 - val_loss: 0.3762 - val_accuracy: 0.9137\n",
      "Epoch 4/10\n",
      "406/406 [==============================] - 50s 123ms/step - loss: 0.6534 - accuracy: 0.8084 - val_loss: 0.3293 - val_accuracy: 0.9309\n",
      "Epoch 5/10\n",
      "406/406 [==============================] - 31s 77ms/step - loss: 0.6245 - accuracy: 0.8193 - val_loss: 0.2961 - val_accuracy: 0.9346\n",
      "Epoch 6/10\n",
      "406/406 [==============================] - 41s 101ms/step - loss: 0.6008 - accuracy: 0.8244 - val_loss: 0.3768 - val_accuracy: 0.9140\n",
      "Epoch 7/10\n",
      "406/406 [==============================] - 40s 98ms/step - loss: 0.6129 - accuracy: 0.8201 - val_loss: 0.3053 - val_accuracy: 0.9306\n",
      "Epoch 8/10\n",
      "406/406 [==============================] - 37s 91ms/step - loss: 0.5883 - accuracy: 0.8244 - val_loss: 0.3025 - val_accuracy: 0.9325\n",
      "Epoch 9/10\n",
      "406/406 [==============================] - 47s 116ms/step - loss: 0.5906 - accuracy: 0.8258 - val_loss: 0.2990 - val_accuracy: 0.9359\n",
      "Epoch 10/10\n",
      "406/406 [==============================] - 29s 72ms/step - loss: 0.6427 - accuracy: 0.8119 - val_loss: 0.4148 - val_accuracy: 0.9032\n"
     ]
    }
   ],
   "source": [
    "epochs = 10\n",
    "history = model.fit(X_train, y_train, batch_size=32, epochs=epochs, validation_data=(X_test, y_test))\n",
    "model.save(\"my_model1.h5\")"
   ]
  },
  {
   "cell_type": "code",
   "execution_count": 25,
   "id": "1b8284f9",
   "metadata": {},
   "outputs": [
    {
     "name": "stdout",
     "output_type": "stream",
     "text": [
      "Test accuracy: 0.9031760692596436\n"
     ]
    }
   ],
   "source": [
    "# Predict classes of test images\n",
    "y_pred = model.predict(X_test)\n",
    "y_pred_classes = np.argmax(y_pred, axis=1)\n",
    "\n",
    "# Evaluate accuracy on test set\n",
    "_, test_acc = model.evaluate(X_test, y_test, verbose=0)\n",
    "print('Test accuracy:', test_acc)"
   ]
  },
  {
   "cell_type": "code",
   "execution_count": 2,
   "id": "74768452",
   "metadata": {},
   "outputs": [
    {
     "name": "stdout",
     "output_type": "stream",
     "text": [
      "[111]\n"
     ]
    }
   ],
   "source": [
    "from PIL import Image\n",
    "import numpy as np\n",
    "import tensorflow as tf\n",
    "model = tf.keras.models.load_model('my_model1.h5')\n",
    "test_image = Image.open('CASIA-Iris-Lamp/111/L/S2111L01.jpg').convert('L')\n",
    "test_image = test_image.resize((30, 30))\n",
    "test_t = np.array(test_image)\n",
    "test_t = np.expand_dims(test_t, axis=-1)\n",
    "test_t = np.expand_dims(test_t, axis=0)\n",
    "\n",
    "pred = np.argmax(model.predict(test_t), axis=-1)\n",
    "print(pred)"
   ]
  },
  {
   "cell_type": "code",
   "execution_count": null,
   "id": "583270a5",
   "metadata": {},
   "outputs": [],
   "source": []
  }
 ],
 "metadata": {
  "kernelspec": {
   "display_name": "Python 3 (ipykernel)",
   "language": "python",
   "name": "python3"
  },
  "language_info": {
   "codemirror_mode": {
    "name": "ipython",
    "version": 3
   },
   "file_extension": ".py",
   "mimetype": "text/x-python",
   "name": "python",
   "nbconvert_exporter": "python",
   "pygments_lexer": "ipython3",
   "version": "3.10.9"
  }
 },
 "nbformat": 4,
 "nbformat_minor": 5
}
